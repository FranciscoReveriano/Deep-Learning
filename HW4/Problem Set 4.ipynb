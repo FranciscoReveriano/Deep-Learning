{
 "cells": [
  {
   "cell_type": "markdown",
   "metadata": {},
   "source": [
    "# Problem 1 (Quickdraw)"
   ]
  },
  {
   "cell_type": "code",
   "execution_count": 1,
   "metadata": {
    "ExecuteTime": {
     "end_time": "2020-10-23T04:39:36.296073Z",
     "start_time": "2020-10-23T04:39:35.770145Z"
    }
   },
   "outputs": [],
   "source": [
    "import os\n",
    "import numpy as np\n",
    "import torch\n",
    "import torch.utils.data as data\n",
    "import argparse\n",
    "import torch.nn as nn\n",
    "import torch.nn.functional as F\n",
    "from tqdm import tqdm\n",
    "import matplotlib.pyplot as plt\n",
    "%matplotlib inline"
   ]
  },
  {
   "cell_type": "markdown",
   "metadata": {},
   "source": [
    "## Dataloader Functions"
   ]
  },
  {
   "cell_type": "code",
   "execution_count": 2,
   "metadata": {
    "ExecuteTime": {
     "end_time": "2020-10-23T04:39:36.932392Z",
     "start_time": "2020-10-23T04:39:36.924051Z"
    }
   },
   "outputs": [],
   "source": [
    "def load_dataset(root, mtype):\n",
    "    num_classes = 0\n",
    "    with open(\"./DataUtils/class_names.txt\", \"r\") as f:\n",
    "        for line in f:\n",
    "            num_classes = num_classes+1\n",
    "\n",
    "    # load data from cache\n",
    "    if os.path.exists(os.path.join(root, mtype+'.npz')):\n",
    "        data_cache = np.load(os.path.join(root, mtype+'.npz'))\n",
    "        return data_cache[\"data\"].astype('float32'), \\\n",
    "            data_cache[\"target\"].astype('int64'), num_classes\n",
    "\n",
    "class Dataset(data.Dataset):\n",
    "    def __init__(self, mtype, root='Dataset', transform=None):\n",
    "        self.data, self.target, self.num_classes = load_dataset(root, mtype)\n",
    "        self.data = torch.from_numpy(self.data)\n",
    "        self.target = torch.from_numpy(self.target)\n",
    "        self.transform = transform\n",
    "    def __getitem__(self, index):\n",
    "        return self.data[index], self.target[index]\n",
    "\n",
    "    def __len__(self):\n",
    "        return len(self.data)\n",
    "\n",
    "    def get_number_classes(self):\n",
    "        return self.num_classes\n",
    "    \n",
    "CLASSES=['airplane', 'basket', 'basketball', 'bed', 'bus', 'calculator', 'cookie', 'eyeglasses', 'mushroom', 'pizza']\n",
    "         "
   ]
  },
  {
   "cell_type": "markdown",
   "metadata": {},
   "source": [
    "## Define Network"
   ]
  },
  {
   "cell_type": "code",
   "execution_count": 3,
   "metadata": {
    "ExecuteTime": {
     "end_time": "2020-10-23T04:39:38.277761Z",
     "start_time": "2020-10-23T04:39:38.266573Z"
    }
   },
   "outputs": [],
   "source": [
    "### Define CNN Architecture \n",
    "\n",
    "class Net(nn.Module):\n",
    "    def __init__(self):\n",
    "        super(Net, self).__init__()\n",
    "        self.layer = nn.Sequential(\n",
    "            nn.Conv2d(1,10, kernel_size=5, padding=1),\n",
    "            nn.ReLU(),\n",
    "            nn.Conv2d(10,20, kernel_size=4, padding=1),\n",
    "            nn.ReLU(),\n",
    "            nn.Conv2d(20,30, kernel_size=3, padding=1),\n",
    "            nn.ReLU(),\n",
    "            nn.Conv2d(30,40, kernel_size=3, padding=1),\n",
    "            nn.ReLU(),\n",
    "            nn.Conv2d(40,50, kernel_size=2, padding=1),\n",
    "            nn.LeakyReLU()\n",
    "        )\n",
    "        self.fc = nn.Sequential(\n",
    "            nn.Linear(33800,1000),\n",
    "            nn.ReLU(),\n",
    "            nn.Dropout(p=0.25),\n",
    "            nn.Linear(1000,100),\n",
    "            nn.ReLU(),\n",
    "            nn.Dropout(p=0.25),\n",
    "            nn.Linear(100,10)\n",
    "        )\n",
    "    def forward(self, x):\n",
    "        out = self.layer(x)\n",
    "        out = out.view(out.shape[0], -1)\n",
    "        out = self.fc(out)\n",
    "        return out\n"
   ]
  },
  {
   "cell_type": "markdown",
   "metadata": {},
   "source": [
    "## Proceed to Setup The Network"
   ]
  },
  {
   "cell_type": "code",
   "execution_count": 4,
   "metadata": {
    "ExecuteTime": {
     "end_time": "2020-10-23T04:39:40.527590Z",
     "start_time": "2020-10-23T04:39:39.680069Z"
    }
   },
   "outputs": [
    {
     "name": "stdout",
     "output_type": "stream",
     "text": [
      "Number of Classes:  10\n"
     ]
    }
   ],
   "source": [
    "Batch_Size = 64\n",
    "train_data = Dataset(mtype=\"train\", root='Dataset')\n",
    "train_loader = torch.utils.data.DataLoader(train_data, batch_size=Batch_Size, shuffle=True)\n",
    "\n",
    "test_data = Dataset(mtype=\"test\", root='Dataset')\n",
    "test_loader = torch.utils.data.DataLoader(test_data, batch_size=Batch_Size, shuffle=False)\n",
    "\n",
    "num_classes = train_data.get_number_classes()\n",
    "print(\"Number of Classes: \", num_classes)"
   ]
  },
  {
   "cell_type": "code",
   "execution_count": 5,
   "metadata": {
    "ExecuteTime": {
     "end_time": "2020-10-23T04:39:42.247949Z",
     "start_time": "2020-10-23T04:39:40.648547Z"
    }
   },
   "outputs": [
    {
     "name": "stdout",
     "output_type": "stream",
     "text": [
      "Net(\n",
      "  (layer): Sequential(\n",
      "    (0): Conv2d(1, 10, kernel_size=(5, 5), stride=(1, 1), padding=(1, 1))\n",
      "    (1): ReLU()\n",
      "    (2): Conv2d(10, 20, kernel_size=(4, 4), stride=(1, 1), padding=(1, 1))\n",
      "    (3): ReLU()\n",
      "    (4): Conv2d(20, 30, kernel_size=(3, 3), stride=(1, 1), padding=(1, 1))\n",
      "    (5): ReLU()\n",
      "    (6): Conv2d(30, 40, kernel_size=(3, 3), stride=(1, 1), padding=(1, 1))\n",
      "    (7): ReLU()\n",
      "    (8): Conv2d(40, 50, kernel_size=(2, 2), stride=(1, 1), padding=(1, 1))\n",
      "    (9): LeakyReLU(negative_slope=0.01)\n",
      "  )\n",
      "  (fc): Sequential(\n",
      "    (0): Linear(in_features=33800, out_features=1000, bias=True)\n",
      "    (1): ReLU()\n",
      "    (2): Dropout(p=0.25, inplace=False)\n",
      "    (3): Linear(in_features=1000, out_features=100, bias=True)\n",
      "    (4): ReLU()\n",
      "    (5): Dropout(p=0.25, inplace=False)\n",
      "    (6): Linear(in_features=100, out_features=10, bias=True)\n",
      "  )\n",
      ")\n"
     ]
    }
   ],
   "source": [
    "## Setup Network\n",
    "net = None\n",
    "model = Net().cuda()\n",
    "print(model)\n",
    "\n",
    "## Optimizer\n",
    "optimizer = torch.optim.SGD(model.parameters(), lr=0.01, momentum=0.9, nesterov=True)\n",
    "scheduler = torch.optim.lr_scheduler.CosineAnnealingLR(optimizer, T_max=50,eta_min=0.00001)\n",
    "loss = nn.CrossEntropyLoss()"
   ]
  },
  {
   "cell_type": "code",
   "execution_count": 6,
   "metadata": {
    "ExecuteTime": {
     "end_time": "2020-10-23T04:45:31.398771Z",
     "start_time": "2020-10-23T04:39:42.250877Z"
    }
   },
   "outputs": [
    {
     "name": "stderr",
     "output_type": "stream",
     "text": [
      "  2%|▏         | 1/50 [00:06<05:29,  6.73s/it]"
     ]
    },
    {
     "name": "stdout",
     "output_type": "stream",
     "text": [
      "Epoch[1/50], loss:1.5073\n"
     ]
    },
    {
     "name": "stderr",
     "output_type": "stream",
     "text": [
      " 42%|████▏     | 21/50 [02:23<03:22,  6.98s/it]"
     ]
    },
    {
     "name": "stdout",
     "output_type": "stream",
     "text": [
      "Epoch[21/50], loss:0.0183\n"
     ]
    },
    {
     "name": "stderr",
     "output_type": "stream",
     "text": [
      " 82%|████████▏ | 41/50 [04:44<01:03,  7.07s/it]"
     ]
    },
    {
     "name": "stdout",
     "output_type": "stream",
     "text": [
      "Epoch[41/50], loss:0.0051\n"
     ]
    },
    {
     "name": "stderr",
     "output_type": "stream",
     "text": [
      "100%|██████████| 50/50 [05:48<00:00,  6.97s/it]"
     ]
    },
    {
     "name": "stdout",
     "output_type": "stream",
     "text": [
      "Epoch[50/50], loss:0.0056\n"
     ]
    },
    {
     "name": "stderr",
     "output_type": "stream",
     "text": [
      "\n"
     ]
    },
    {
     "data": {
      "image/png": "[encoded data removed]",
      "text/plain": [
       "<Figure size 432x288 with 2 Axes>"
      ]
     },
     "metadata": {
      "needs_background": "light"
     },
     "output_type": "display_data"
    },
    {
     "name": "stdout",
     "output_type": "stream",
     "text": [
      "Test Total Loss:  128.80158316344023\n",
      "Accuracy Total:  8955.0\n",
      "Accuracy Percentage:  89.55\n"
     ]
    }
   ],
   "source": [
    "def train(epochs=50):\n",
    "   \n",
    "    # Clear Cuda Cache\n",
    "    torch.cuda.empty_cache()\n",
    "    \n",
    "    # Numpy Array for Loss Functions\n",
    "    loss_history = np.zeros(epochs)\n",
    "    x_range = np.arange(1, epochs+1)\n",
    "    accuracy_history = np.zeros(epochs)\n",
    "    for i in tqdm(range(epochs)):\n",
    "        loss_avg = 0\n",
    "        accuracy = 0.0\n",
    "        for batch_idx, (data, target) in enumerate(train_loader):\n",
    "            # Data View\n",
    "            data = data.view(-1,1, 28, 28)\n",
    "            data /= 255.0\n",
    "\n",
    "            # Sent Inputs to CUDA\n",
    "            data, target = data.cuda(), target.cuda()\n",
    "\n",
    "            optimizer.zero_grad()\n",
    "            # Feedforward\n",
    "            y_hat = model(data)\n",
    "\n",
    "            # Calculate Loss\n",
    "            Loss = loss(y_hat, target)\n",
    "\n",
    "            # Update Gradients\n",
    "            Loss.backward()\n",
    "            loss_avg += Loss.item()\n",
    "            \n",
    "            # Accuracy\n",
    "            y_hat_pred = y_hat.data.max(1)[1]\n",
    "            accuracy   += float(y_hat_pred.eq(target.data).sum())\n",
    "\n",
    "            # Prooced to Next Step\n",
    "            optimizer.step()\n",
    "\n",
    "        loss_history[i] = loss_avg / len(train_loader)\n",
    "        if i % 20 == 0 or i == (epochs -1):      \n",
    "            print('Epoch[{}/{}], loss:{:.4f}'.format(i+1,epochs, loss_avg/len(train_loader)))\n",
    "        accuracy_history[i] = accuracy\n",
    "        \n",
    "    # Proceed to Test the Model \n",
    "    loss_avg_test = 0\n",
    "    accuracy_test = 0\n",
    "    \n",
    "    for batch_idx, (data, target) in enumerate(test_loader):\n",
    "        with torch.no_grad():\n",
    "            data = data.view(-1,1, 28, 28)\n",
    "            data /= 255.0\n",
    "\n",
    "            # Sent Inputs to CUDA\n",
    "            data, target = data.cuda(), target.cuda()\n",
    "            \n",
    "            # Feed Forward\n",
    "            y_hat = model(data)\n",
    "            \n",
    "            # Calculate Loss\n",
    "            Loss = loss(y_hat, target)\n",
    "            loss_avg_test += Loss.item()\n",
    "            \n",
    "            # Accuracy\n",
    "            y_hat_pred = y_hat.data.max(1)[1]\n",
    "            accuracy_test  += float(y_hat_pred.eq(target.data).sum())\n",
    "    \n",
    "    # Proceed to Plot the Image\n",
    "    fig, (ax1, ax2) = plt.subplots(1,2)\n",
    "    ax1.plot(x_range, loss_history)\n",
    "    plt.xlabel(\"Epochs\")\n",
    "    plt.ylabel(\"Loss\")\n",
    "    ax1.set_title(\"Training Loss History\")\n",
    "    ax2.plot(x_range, accuracy_history)\n",
    "    ax2.set_title(\"Training Accuracy History\")\n",
    "    plt.xlabel(\"Epochs\")\n",
    "    plt.ylabel(\"Accuracy\")\n",
    "    plt.show()\n",
    "    \n",
    "    # Print Final Parts\n",
    "    print(\"Test Total Loss: \", loss_avg_test)\n",
    "    print(\"Accuracy Total: \", accuracy_test)\n",
    "    print(\"Accuracy Percentage: \", (accuracy_test/ 10000) * 100)\n",
    "    \n",
    "train()"
   ]
  },
  {
   "cell_type": "markdown",
   "metadata": {},
   "source": [
    "# Problem 2 AutoEncoders"
   ]
  },
  {
   "cell_type": "code",
   "execution_count": 3,
   "metadata": {
    "ExecuteTime": {
     "end_time": "2020-10-22T18:15:58.822600Z",
     "start_time": "2020-10-22T18:15:58.480665Z"
    }
   },
   "outputs": [],
   "source": [
    "import torchvision\n",
    "from torchvision import transforms\n",
    "from torch.utils.data import DataLoader\n",
    "from tqdm.notebook import trange, tqdm\n",
    "from tqdm import tqdm_notebook\n",
    "from sklearn.linear_model import LogisticRegression\n",
    "from sklearn.metrics import accuracy_score\n",
    "from sklearn import metrics\n"
   ]
  },
  {
   "cell_type": "markdown",
   "metadata": {},
   "source": [
    "## Define Dataset"
   ]
  },
  {
   "cell_type": "code",
   "execution_count": 4,
   "metadata": {
    "ExecuteTime": {
     "end_time": "2020-10-22T18:15:59.793682Z",
     "start_time": "2020-10-22T18:15:59.751688Z"
    }
   },
   "outputs": [
    {
     "name": "stdout",
     "output_type": "stream",
     "text": [
      "60000\n",
      "10000\n"
     ]
    }
   ],
   "source": [
    "img_transform = transforms.Compose([\n",
    "        transforms.ToTensor(),\n",
    "        transforms.Normalize((0.1307,), (0.3081,))\n",
    "        ])\n",
    "\n",
    "train_data = torchvision.datasets.MNIST(\"./data\", train=True, download=True, transform=img_transform)\n",
    "test_data  = torchvision.datasets.MNIST(\"./data\", train=False, download=True, transform=img_transform)\n",
    "\n",
    "print(len(train_data))\n",
    "print(len(test_data))"
   ]
  },
  {
   "cell_type": "code",
   "execution_count": 5,
   "metadata": {
    "ExecuteTime": {
     "end_time": "2020-10-22T18:16:00.559138Z",
     "start_time": "2020-10-22T18:16:00.553793Z"
    }
   },
   "outputs": [],
   "source": [
    "train_loader = DataLoader(train_data, batch_size=64, shuffle=True)\n",
    "test_loader  = DataLoader(test_data, batch_size=64, shuffle=True)"
   ]
  },
  {
   "cell_type": "markdown",
   "metadata": {},
   "source": [
    "## Regular Autoencoder"
   ]
  },
  {
   "cell_type": "markdown",
   "metadata": {
    "ExecuteTime": {
     "end_time": "2020-10-20T20:51:46.390338Z",
     "start_time": "2020-10-20T20:51:46.386330Z"
    }
   },
   "source": [
    "### Define Network"
   ]
  },
  {
   "cell_type": "code",
   "execution_count": 10,
   "metadata": {
    "ExecuteTime": {
     "end_time": "2020-10-21T04:46:11.681821Z",
     "start_time": "2020-10-21T04:46:11.599881Z"
    }
   },
   "outputs": [],
   "source": [
    "class AutoEncoder(nn.Module):\n",
    "    def __init__(self):\n",
    "        super(AutoEncoder, self).__init__()\n",
    "        self.Encoder = nn.Sequential(\n",
    "            nn.Linear(28*28, 128),\n",
    "            nn.ReLU(),\n",
    "            nn.Linear(128, 64),\n",
    "            nn.ReLU(),\n",
    "            nn.Linear(64, 12),\n",
    "            nn.ReLU(),\n",
    "            nn.Linear(12,3),\n",
    "        )\n",
    "        self.Decoder = nn.Sequential(\n",
    "            nn.Linear(3,12),\n",
    "            nn.ReLU(), \n",
    "            nn.Linear(12,64),\n",
    "            nn.ReLU(),\n",
    "            nn.Linear(64, 128),\n",
    "            nn.ReLU(),\n",
    "            nn.Linear(128,28*28),\n",
    "            nn.Tanh()\n",
    "        )\n",
    "    def forward(self,x):\n",
    "        x = self.Encoder(x)\n",
    "        x = self.Decoder(x)\n",
    "        return x\n",
    "    def forward2(self,x):\n",
    "        x = self.Encoder(x)\n",
    "        return x"
   ]
  },
  {
   "cell_type": "code",
   "execution_count": 11,
   "metadata": {
    "ExecuteTime": {
     "end_time": "2020-10-21T04:46:11.821733Z",
     "start_time": "2020-10-21T04:46:11.685044Z"
    }
   },
   "outputs": [],
   "source": [
    "model = AutoEncoder().cuda()\n",
    "loss = nn.MSELoss()\n",
    "optimizer = torch.optim.SGD(model.parameters(), lr=0.001, momentum=0.9, nesterov=True)"
   ]
  },
  {
   "cell_type": "markdown",
   "metadata": {},
   "source": [
    "### Train AutoEncoder"
   ]
  },
  {
   "cell_type": "code",
   "execution_count": 12,
   "metadata": {
    "ExecuteTime": {
     "end_time": "2020-10-21T04:48:05.333281Z",
     "start_time": "2020-10-21T04:46:11.824462Z"
    }
   },
   "outputs": [
    {
     "name": "stderr",
     "output_type": "stream",
     "text": [
      "/home/franciscoAML/anaconda3/envs/AI/lib/python3.7/site-packages/ipykernel_launcher.py:4: TqdmDeprecationWarning: This function will be removed in tqdm==5.0.0\n",
      "Please use `tqdm.notebook.tqdm` instead of `tqdm.tqdm_notebook`\n",
      "  after removing the cwd from sys.path.\n"
     ]
    },
    {
     "data": {
      "application/vnd.jupyter.widget-view+json": {
       "model_id": "d4ba642822cc42c69f03a220125b3e54",
       "version_major": 2,
       "version_minor": 0
      },
      "text/plain": [
       "HBox(children=(IntProgress(value=0, max=10), HTML(value='')))"
      ]
     },
     "metadata": {},
     "output_type": "display_data"
    },
    {
     "name": "stdout",
     "output_type": "stream",
     "text": [
      "\n"
     ]
    },
    {
     "data": {
      "image/png": "[encoded data removed]",
      "text/plain": [
       "<Figure size 720x360 with 1 Axes>"
      ]
     },
     "metadata": {
      "needs_background": "light"
     },
     "output_type": "display_data"
    }
   ],
   "source": [
    "def train(epochs=10):\n",
    "    loss_history = np.zeros(epochs)\n",
    "    x_range = np.arange(1, epochs+1)\n",
    "    for i in tqdm_notebook(range(epochs)):\n",
    "        loss_avg = 0\n",
    "        for batch_idx, (data, target) in enumerate(train_loader):\n",
    "            data = data.view(data.size(0), -1)\n",
    "            data, target = data.cuda(), target.cuda()\n",
    "            \n",
    "            # Zero Grad\n",
    "            optimizer.zero_grad()\n",
    "            \n",
    "            # Forward Pass\n",
    "            y_hat = model(data)\n",
    "            Loss = loss(y_hat, data)\n",
    "            \n",
    "            # Keep Sum of Loss\n",
    "            loss_avg += Loss.item()\n",
    "            \n",
    "            # Backward Pass\n",
    "            Loss.backward()\n",
    "            \n",
    "            # Step Forward\n",
    "            optimizer.step()\n",
    "            \n",
    "        # Save Loss History    \n",
    "        loss_history[i] = loss_avg / len(train_loader)\n",
    "        \n",
    "    # Matplotlib\n",
    "    plt.figure(figsize=(10,5))\n",
    "    plt.plot(x_range, loss_history)\n",
    "    plt.xlabel(\"Epochs\")\n",
    "    plt.ylabel(\"Loss\")\n",
    "    plt.show()\n",
    "            \n",
    "            \n",
    "train()\n",
    "            "
   ]
  },
  {
   "cell_type": "markdown",
   "metadata": {},
   "source": [
    "### Testing Final Layer of Encoder"
   ]
  },
  {
   "cell_type": "code",
   "execution_count": 13,
   "metadata": {
    "ExecuteTime": {
     "end_time": "2020-10-21T05:08:26.945953Z",
     "start_time": "2020-10-21T04:48:05.334532Z"
    }
   },
   "outputs": [
    {
     "name": "stdout",
     "output_type": "stream",
     "text": [
      "Original Accuracy:  0.9425\n",
      "Training Accuracy:  0.2971666666666667\n"
     ]
    }
   ],
   "source": [
    "### Proceed to Test The AutoEncoder\n",
    "\n",
    "train_loader = DataLoader(train_data, batch_size=1, shuffle=True)\n",
    "test_loader  = DataLoader(test_data, batch_size=1, shuffle=True)\n",
    "\n",
    "def test():\n",
    "    loss_avg = 0\n",
    "    X = np.zeros((len(train_loader),3))\n",
    "    X_original = np.zeros((len(train_loader), 28*28))\n",
    "    Y = []\n",
    "    target_list  = []\n",
    "    for batch_idx, (data, target) in enumerate(train_loader):\n",
    "        data = data.view(data.size(0), -1)\n",
    "        data, target = data.cuda(), target.cuda()\n",
    "            \n",
    "        # Zero Grad\n",
    "        with torch.no_grad():   \n",
    "            # Forward Pass\n",
    "            y_hat = model.forward2(data)\n",
    "\n",
    "            y_hat = y_hat.detach().cpu().numpy()\n",
    "            y_hat = np.asarray(y_hat)\n",
    "            \n",
    "            # Append Values\n",
    "            X[batch_idx] = y_hat\n",
    "            X_original[batch_idx] = data.detach().cpu().numpy()\n",
    "            target = target.detach().cpu().numpy()\n",
    "            Y.append(target)\n",
    "    \n",
    "    # Declare Logistic Equation\n",
    "    Y = np.asarray(Y).flatten()\n",
    "    \n",
    "    # Original Data\n",
    "    clf1 = LogisticRegression(random_state=1, max_iter=1e4).fit(X_original,Y)\n",
    "    y_hat = clf1.predict(X_original)\n",
    "    print(\"Original Accuracy: \", accuracy_score(y_hat, Y))\n",
    "    \n",
    "    clf = LogisticRegression(random_state=0, max_iter=1e4).fit(X, Y)\n",
    "    y_hat = clf.predict(X)\n",
    "    print(\"Training Accuracy: \", accuracy_score(y_hat, Y))\n",
    "    \n",
    "test()"
   ]
  },
  {
   "cell_type": "markdown",
   "metadata": {},
   "source": [
    "### Testing Output of Decoder"
   ]
  },
  {
   "cell_type": "code",
   "execution_count": 14,
   "metadata": {
    "ExecuteTime": {
     "end_time": "2020-10-21T05:22:35.001968Z",
     "start_time": "2020-10-21T05:08:26.972781Z"
    }
   },
   "outputs": [
    {
     "name": "stdout",
     "output_type": "stream",
     "text": [
      "Training Accuracy:  0.28108333333333335\n"
     ]
    }
   ],
   "source": [
    "def test2():\n",
    "    X = np.zeros((len(train_loader),28*28))\n",
    "    Y = []\n",
    "    target_list  = []\n",
    "    for batch_idx, (data, target) in enumerate(train_loader):\n",
    "        data = data.view(data.size(0), -1)\n",
    "        data, target = data.cuda(), target.cuda()\n",
    "            \n",
    "        # Zero Grad\n",
    "        with torch.no_grad():   \n",
    "            # Forward Pass\n",
    "            y_hat = model.forward(data)\n",
    "\n",
    "            y_hat = y_hat.detach().cpu().numpy()\n",
    "            y_hat = np.asarray(y_hat)\n",
    "            \n",
    "            # Append Values\n",
    "            X[batch_idx] = y_hat\n",
    "            target = target.detach().cpu().numpy()\n",
    "            Y.append(target)\n",
    "    \n",
    "    # Declare Logistic Equation\n",
    "    Y = np.asarray(Y).flatten()\n",
    "    clf = LogisticRegression(random_state=0, max_iter=1e4).fit(X, Y)\n",
    "    y_hat = clf.predict(X)\n",
    "    \n",
    "    # Print Accuracy\n",
    "    print(\"Training Accuracy: \", accuracy_score(y_hat, Y))\n",
    "    \n",
    "test2()"
   ]
  },
  {
   "cell_type": "markdown",
   "metadata": {},
   "source": [
    "## Variational AutoEncoder"
   ]
  },
  {
   "cell_type": "markdown",
   "metadata": {},
   "source": [
    "### Train Variational Autoencoder"
   ]
  },
  {
   "cell_type": "code",
   "execution_count": 10,
   "metadata": {
    "ExecuteTime": {
     "end_time": "2020-10-22T18:41:32.465680Z",
     "start_time": "2020-10-22T18:31:34.763010Z"
    }
   },
   "outputs": [
    {
     "name": "stderr",
     "output_type": "stream",
     "text": [
      "/home/franciscoAML/anaconda3/envs/AI/lib/python3.7/site-packages/ipykernel_launcher.py:49: TqdmDeprecationWarning: This function will be removed in tqdm==5.0.0\n",
      "Please use `tqdm.notebook.tqdm` instead of `tqdm.tqdm_notebook`\n"
     ]
    },
    {
     "data": {
      "application/vnd.jupyter.widget-view+json": {
       "model_id": "8520459b08484699a2f782fea6bc052b",
       "version_major": 2,
       "version_minor": 0
      },
      "text/plain": [
       "HBox(children=(IntProgress(value=0, max=30), HTML(value='')))"
      ]
     },
     "metadata": {},
     "output_type": "display_data"
    },
    {
     "name": "stdout",
     "output_type": "stream",
     "text": [
      "Epoch[1/30], loss:0.9771\n",
      "Epoch[2/30], loss:0.8376\n",
      "Epoch[3/30], loss:0.7103\n",
      "Epoch[4/30], loss:0.7011\n",
      "Epoch[5/30], loss:0.6986\n",
      "Epoch[6/30], loss:0.6969\n",
      "Epoch[7/30], loss:0.6950\n",
      "Epoch[8/30], loss:0.6926\n",
      "Epoch[9/30], loss:0.6893\n",
      "Epoch[10/30], loss:0.6846\n",
      "Epoch[11/30], loss:0.6783\n",
      "Epoch[12/30], loss:0.6713\n",
      "Epoch[13/30], loss:0.6654\n",
      "Epoch[14/30], loss:0.6613\n",
      "Epoch[15/30], loss:0.6586\n",
      "Epoch[16/30], loss:0.6567\n",
      "Epoch[17/30], loss:0.6554\n",
      "Epoch[18/30], loss:0.6543\n",
      "Epoch[19/30], loss:0.6534\n",
      "Epoch[20/30], loss:0.6526\n",
      "Epoch[21/30], loss:0.6519\n",
      "Epoch[22/30], loss:0.6512\n",
      "Epoch[23/30], loss:0.6506\n",
      "Epoch[24/30], loss:0.6499\n",
      "Epoch[25/30], loss:0.6493\n",
      "Epoch[26/30], loss:0.6487\n",
      "Epoch[27/30], loss:0.6482\n",
      "Epoch[28/30], loss:0.6477\n",
      "Epoch[29/30], loss:0.6472\n",
      "Epoch[30/30], loss:0.6466\n",
      "\n"
     ]
    },
    {
     "data": {
      "image/png": "[encoded data removed]",
      "text/plain": [
       "<Figure size 720x360 with 1 Axes>"
      ]
     },
     "metadata": {
      "needs_background": "light"
     },
     "output_type": "display_data"
    }
   ],
   "source": [
    "class VAE_AutoEncoder(nn.Module):\n",
    "    def __init__(self):\n",
    "        super(VAE_AutoEncoder, self).__init__()\n",
    "        self.Encoder = nn.Sequential(\n",
    "            nn.Linear(28*28, 128),\n",
    "            nn.ReLU(),\n",
    "            nn.Linear(128, 64),\n",
    "            nn.ReLU(),\n",
    "            nn.Linear(64, 12),\n",
    "            nn.ReLU(),\n",
    "            nn.Linear(12,3),\n",
    "        )\n",
    "        self.Decoder = nn.Sequential(\n",
    "            nn.Linear(3,12),\n",
    "            nn.ReLU(), \n",
    "            nn.Linear(12,64),\n",
    "            nn.ReLU(),\n",
    "            nn.Linear(64, 128),\n",
    "            nn.ReLU(),\n",
    "            nn.Linear(128,28*28),\n",
    "            nn.Tanh()\n",
    "        )\n",
    "    def forward(self,x):\n",
    "        x1 = self.Encoder(x)\n",
    "        x2 = self.Decoder(x1)\n",
    "        return x1, x2\n",
    "\n",
    "model = VAE_AutoEncoder().cuda()\n",
    "loss = nn.MSELoss()\n",
    "optimizer = torch.optim.SGD(model.parameters(), lr=0.001, momentum=0.9, nesterov=True)\n",
    "scheduler = torch.optim.lr_scheduler.CosineAnnealingLR(optimizer, T_max=30, eta_min=0.000001)\n",
    "\n",
    "train_loader = DataLoader(train_data, batch_size=32, shuffle=True)\n",
    "\n",
    "def variational_loss(x1, x2, data, lambda1=1e-5):\n",
    "    Loss1 = loss(x2, data)\n",
    "    x1.backward(torch.ones(x1.size()).cuda(), retain_graph=True)\n",
    "    \n",
    "    Loss2 = torch.sqrt(torch.sum(torch.pow(data.grad,2)))\n",
    "    data.grad.data.zero_()\n",
    "    Loss = Loss1 + lambda1*Loss2\n",
    "    return Loss\n",
    "\n",
    "\n",
    "def train(epochs=30):\n",
    "    torch.cuda.empty_cache()\n",
    "    loss_history = np.zeros(epochs)\n",
    "    x_range = np.arange(1, epochs+1)\n",
    "    for i in tqdm_notebook(range(epochs)):\n",
    "        loss_avg = 0\n",
    "        for batch_idx, (data, target) in enumerate(train_loader):\n",
    "            data = data.view(data.size(0), -1)\n",
    "            data, target = data.cuda(), target.cuda()\n",
    "            \n",
    "            # Grads\n",
    "            data.retain_grad()\n",
    "            data.requires_grad_(True)\n",
    "\n",
    "            # Forward Pass\n",
    "            x1, y_hat = model(data)\n",
    "            \n",
    "            Loss = variational_loss(x1, y_hat, data)\n",
    "            \n",
    "            # Keep Sum of Loss\n",
    "            loss_avg += Loss.item()\n",
    "            \n",
    "            data.requires_grad_(False)\n",
    "            \n",
    "            # Zero Gradient\n",
    "            optimizer.zero_grad()\n",
    "            # Backward Pass\n",
    "            Loss.backward() \n",
    "            # Step Forward\n",
    "            optimizer.step()\n",
    "            \n",
    "        # Save Loss History    \n",
    "        loss_history[i] = loss_avg / len(train_loader)\n",
    "        print('Epoch[{}/{}], loss:{:.4f}'.format(i+1,epochs, loss_avg/len(train_loader)))\n",
    "        \n",
    "        \n",
    "    # Matplotlib\n",
    "    plt.figure(figsize=(10,5))\n",
    "    plt.plot(x_range, loss_history)\n",
    "    plt.xlabel(\"Epochs\")\n",
    "    plt.ylabel(\"Loss\")\n",
    "    plt.show()\n",
    "            \n",
    "            \n",
    "train()"
   ]
  },
  {
   "cell_type": "markdown",
   "metadata": {},
   "source": [
    "### Testing Final Layer of Encoder"
   ]
  },
  {
   "cell_type": "code",
   "execution_count": 11,
   "metadata": {
    "ExecuteTime": {
     "end_time": "2020-10-22T19:26:52.237111Z",
     "start_time": "2020-10-22T19:10:40.885588Z"
    }
   },
   "outputs": [
    {
     "name": "stdout",
     "output_type": "stream",
     "text": [
      "Original Accuracy:  0.9424833333333333\n",
      "Training Accuracy:  0.3991\n"
     ]
    }
   ],
   "source": [
    "### Testing Final Layer of Encoder\n",
    "### Proceed to Test The AutoEncoder\n",
    "\n",
    "train_loader = DataLoader(train_data, batch_size=1, shuffle=True)\n",
    "test_loader  = DataLoader(test_data, batch_size=1, shuffle=True)\n",
    "\n",
    "def test():\n",
    "    loss_avg = 0\n",
    "    X = np.zeros((len(train_loader),3))\n",
    "    X_original = np.zeros((len(train_loader), 28*28))\n",
    "    Y = []\n",
    "    target_list  = []\n",
    "    for batch_idx, (data, target) in enumerate(train_loader):\n",
    "        data = data.view(data.size(0), -1)\n",
    "        data, target = data.cuda(), target.cuda()\n",
    "            \n",
    "        # Zero Grad\n",
    "        with torch.no_grad():   \n",
    "            # Forward Pass\n",
    "            y_hat, x_hat = model.forward(data)\n",
    "\n",
    "            y_hat = y_hat.detach().cpu().numpy()\n",
    "            y_hat = np.asarray(y_hat)\n",
    "            \n",
    "            # Append Values\n",
    "            X[batch_idx] = y_hat\n",
    "            X_original[batch_idx] = data.detach().cpu().numpy()\n",
    "            target = target.detach().cpu().numpy()\n",
    "            Y.append(target)\n",
    "    \n",
    "    # Declare Logistic Equation\n",
    "    Y = np.asarray(Y).flatten()\n",
    "    \n",
    "    # Original Data\n",
    "    clf1 = LogisticRegression(random_state=1, max_iter=1e4).fit(X_original,Y)\n",
    "    y_hat = clf1.predict(X_original)\n",
    "    print(\"Original Accuracy: \", accuracy_score(y_hat, Y))\n",
    "    \n",
    "    clf = LogisticRegression(random_state=0, max_iter=1e4).fit(X, Y)\n",
    "    y_hat = clf.predict(X)\n",
    "    print(\"Training Accuracy: \", accuracy_score(y_hat, Y))\n",
    "    \n",
    "test()"
   ]
  },
  {
   "cell_type": "markdown",
   "metadata": {},
   "source": [
    "### Testing Output of Decoder"
   ]
  },
  {
   "cell_type": "code",
   "execution_count": 12,
   "metadata": {
    "ExecuteTime": {
     "end_time": "2020-10-22T19:39:29.809231Z",
     "start_time": "2020-10-22T19:26:52.261945Z"
    }
   },
   "outputs": [
    {
     "name": "stdout",
     "output_type": "stream",
     "text": [
      "Training Accuracy:  0.4365833333333333\n"
     ]
    }
   ],
   "source": [
    "def test2():\n",
    "    X = np.zeros((len(train_loader),28*28))\n",
    "    Y = []\n",
    "    target_list  = []\n",
    "    for batch_idx, (data, target) in enumerate(train_loader):\n",
    "        data = data.view(data.size(0), -1)\n",
    "        data, target = data.cuda(), target.cuda()\n",
    "            \n",
    "        # Zero Grad\n",
    "        with torch.no_grad():   \n",
    "            # Forward Pass\n",
    "            x_hat, y_hat = model.forward(data)\n",
    "\n",
    "            y_hat = y_hat.detach().cpu().numpy()\n",
    "            y_hat = np.asarray(y_hat)\n",
    "            \n",
    "            # Append Values\n",
    "            X[batch_idx] = y_hat\n",
    "            target = target.detach().cpu().numpy()\n",
    "            Y.append(target)\n",
    "    \n",
    "    # Declare Logistic Equation\n",
    "    Y = np.asarray(Y).flatten()\n",
    "    clf = LogisticRegression(random_state=0, max_iter=1e4).fit(X, Y)\n",
    "    y_hat = clf.predict(X)\n",
    "    \n",
    "    # Print Accuracy\n",
    "    print(\"Training Accuracy: \", accuracy_score(y_hat, Y))\n",
    "    \n",
    "test2()"
   ]
  },
  {
   "cell_type": "markdown",
   "metadata": {},
   "source": [
    "## PCA Feature Extraction"
   ]
  },
  {
   "cell_type": "code",
   "execution_count": 88,
   "metadata": {
    "ExecuteTime": {
     "end_time": "2020-10-22T18:08:14.028488Z",
     "start_time": "2020-10-22T18:07:46.130904Z"
    }
   },
   "outputs": [
    {
     "name": "stdout",
     "output_type": "stream",
     "text": [
      "Training Accuracy:  0.46371666666666667\n"
     ]
    }
   ],
   "source": [
    "from sklearn.decomposition import PCA\n",
    "\n",
    "def test2():\n",
    "    X = np.zeros((len(train_loader),28*28))\n",
    "    Y = []\n",
    "    target_list  = []\n",
    "    for batch_idx, (data, target) in enumerate(train_loader):\n",
    "        data = data.view(data.size(0), -1)\n",
    "        data = data.detach().cpu().numpy().flatten()\n",
    "        X[batch_idx] = data\n",
    "        target = target.detach().cpu().numpy()\n",
    "        Y.append(target)\n",
    "        \n",
    "    pca = None\n",
    "    pca = PCA(n_components=3).fit(X)\n",
    "    \n",
    "\n",
    "    X_train_pca = pca.transform(X)    \n",
    "    # Declare Logistic Equation\n",
    "    Y = np.asarray(Y).flatten()\n",
    "    clf = LogisticRegression(random_state=0, max_iter=1e4).fit(X_train_pca, Y)\n",
    "    y_hat = clf.predict(X_train_pca)\n",
    "    \n",
    "    # Print Accuracy\n",
    "    print(\"Training Accuracy: \", accuracy_score(y_hat, Y))\n",
    "    \n",
    "test2()"
   ]
  },
  {
   "cell_type": "code",
   "execution_count": null,
   "metadata": {},
   "outputs": [],
   "source": []
  }
 ],
 "metadata": {
  "kernelspec": {
   "display_name": "Python 3",
   "language": "python",
   "name": "python3"
  },
  "language_info": {
   "codemirror_mode": {
    "name": "ipython",
    "version": 3
   },
   "file_extension": ".py",
   "mimetype": "text/x-python",
   "name": "python",
   "nbconvert_exporter": "python",
   "pygments_lexer": "ipython3",
   "version": "3.7.4"
  },
  "toc": {
   "base_numbering": 1,
   "nav_menu": {},
   "number_sections": true,
   "sideBar": true,
   "skip_h1_title": false,
   "title_cell": "Table of Contents",
   "title_sidebar": "Contents",
   "toc_cell": false,
   "toc_position": {},
   "toc_section_display": true,
   "toc_window_display": true
  }
 },
 "nbformat": 4,
 "nbformat_minor": 4
}
